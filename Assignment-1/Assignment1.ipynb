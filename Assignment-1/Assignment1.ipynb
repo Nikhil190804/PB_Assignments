{
 "cells": [
  {
   "cell_type": "markdown",
   "metadata": {},
   "source": [
    "# Importing Required Libraries\n",
    "\n",
    "In this assignment, we'll be using the Biopython package, and we need to import the necessary libraries. The following libraries will be utilized:\n",
    "\n",
    "1. **Bio.Entrez:** This library will be used to connect to the NCBI database.\n",
    "\n",
    "2. **Bio.SeqIO:** This library will be used to parse the downloaded FASTA file into an object of type \"Seq.\" This will enable us to leverage the various methods and functions provided by the Biopython package for our convenience.\n",
    "\n",
    "3. **Bio.SeqUtils:** This library contains the `nt_search()` function which will be used to search for the Origin of Replication inside the DNA sequence.\n",
    "\n",
    "4. **Bio.Seq:**  This library has a class \"Seq\" which makes our work easier while dealing with long DNA sequences \n"
   ]
  },
  {
   "cell_type": "code",
   "execution_count": 3,
   "metadata": {},
   "outputs": [],
   "source": [
    "from Bio import Entrez as ent\n",
    "from Bio import SeqUtils as util\n",
    "from Bio.Seq import Seq as seq\n",
    "from Bio import SeqIO as sio"
   ]
  },
  {
   "cell_type": "markdown",
   "metadata": {},
   "source": [
    "# Providing Email and Accession Number\n",
    "\n",
    "To connect to the NCBI database, we need to provide our email for authentication purposes. Additionally, we define a list of accession numbers that we will be using for this assignment.\n",
    "\n",
    "This specific accession number will serve as the identifier to fetch the corresponding FASTA file."
   ]
  },
  {
   "cell_type": "code",
   "execution_count": 4,
   "metadata": {},
   "outputs": [],
   "source": [
    "emailID = \"nikhilkumar190804@gmail.com\"\n",
    "ent.email=emailID\n",
    "list_of_bakers_yeast_assession_number = [\"NC_001133.9\",\"NC_001134.8\",\"NC_001135.5\",\"NC_001136.10\",\"NC_001137.3\",\"NC_001138.5\",\"NC_001139.9\",\"NC_001140.6\",\"NC_001141.2\",\"NC_001142.9\",\"NC_001143.9\",\"NC_001144.5\",\"NC_001145.3\",\"NC_001146.8\",\"NC_001147.6\",\"NC_001148.4\"]\n",
    "file_name = \"Chromosome \"\n",
    "Chromosome_number = 1"
   ]
  },
  {
   "cell_type": "markdown",
   "metadata": {},
   "source": [
    "# Utilizing the efetch() Function from the Entrez Module\n",
    "\n",
    "Now, we employ the `efetch()` function from the Entrez Module. This function is designed to retrieve a specific file in a specified format from the NCBI database using the provided accession number.\n"
   ]
  },
  {
   "cell_type": "code",
   "execution_count": 6,
   "metadata": {},
   "outputs": [],
   "source": [
    "for accession_number in list_of_bakers_yeast_assession_number:\n",
    "    handle = ent.efetch(db=\"nucleotide\",id=accession_number,rettype=\"fasta\",retmode=\"text\")\n",
    "    record = handle.read()"
   ]
  },
  {
   "cell_type": "markdown",
   "metadata": {},
   "source": [
    "# File Handling to Create a FASTA File\n",
    "\n",
    "Using Python's file handling capabilities, we proceed to create a FASTA file. The `open()` function is employed for this purpose, and we write the data fetched by the handle into the file. This step completes the process of downloading the genome sequence of Baker's Yeast.\n"
   ]
  },
  {
   "cell_type": "code",
   "execution_count": 1,
   "metadata": {},
   "outputs": [],
   "source": [
    "for accession_number in list_of_bakers_yeast_assession_number:\n",
    "    handle = ent.efetch(db=\"nucleotide\",id=accession_number,rettype=\"fasta\",retmode=\"text\")\n",
    "    record = handle.read()\n",
    "    file = open(file_name+str(Chromosome_number)+\".fasta\",'w+')\n",
    "    file.write(record)\n",
    "    file.flush()\n",
    "    file.close()\n",
    "    Chromosome_number+=1"
   ]
  },
  {
   "cell_type": "markdown",
   "metadata": {},
   "source": [
    "# Following is the whole code for Part(a):-"
   ]
  },
  {
   "cell_type": "code",
   "execution_count": 2,
   "metadata": {},
   "outputs": [],
   "source": [
    "from Bio import Entrez as ent\n",
    "from Bio import SeqUtils as util\n",
    "from Bio.Seq import Seq as seq\n",
    "from Bio import SeqIO as sio\n",
    "\n",
    "#Downloading the genome sequence of Baker's Yeast\n",
    "emailID = \"nikhilkumar190804@gmail.com\"\n",
    "ent.email=emailID\n",
    "\n",
    "list_of_bakers_yeast_assession_number = [\"NC_001133.9\",\"NC_001134.8\",\"NC_001135.5\",\"NC_001136.10\",\"NC_001137.3\",\"NC_001138.5\",\"NC_001139.9\",\"NC_001140.6\",\"NC_001141.2\",\"NC_001142.9\",\"NC_001143.9\",\"NC_001144.5\",\"NC_001145.3\",\"NC_001146.8\",\"NC_001147.6\",\"NC_001148.4\"]\n",
    "file_name = \"Chromosome \"\n",
    "Chromosome_number = 1\n",
    "\n",
    "for accession_number in list_of_bakers_yeast_assession_number:\n",
    "    handle = ent.efetch(db=\"nucleotide\",id=accession_number,rettype=\"fasta\",retmode=\"text\")\n",
    "    record = handle.read()\n",
    "    file = open(file_name+str(Chromosome_number)+\".fasta\",'w+')\n",
    "    file.write(record)\n",
    "    file.flush()\n",
    "    file.close()\n",
    "    Chromosome_number+=1"
   ]
  },
  {
   "cell_type": "markdown",
   "metadata": {},
   "source": [
    "# Possble Sequences for Origin of Replication\n",
    "\n",
    "Now we want to search for the Origin of replication in all of these yeast chromosomes . \n",
    "\n",
    "For this we search for a particular DNA sequence which i obtained after reading some articles on the pubmed database of the NCBI. The sequence is a 11 base pair sequence and has mainly 'A' and 'T'. \n",
    "\n",
    "Following is the sequence:-\n",
    "[(A/T)TTTAT(A/G)TTT(A/T)]\n",
    "\n",
    "Now there are 8 possible sequences after considering for the three choices at the position: 1,7,11.\n",
    "\n",
    "Hence we store all of these possible sequences in a list.\n",
    "\n",
    "The Article used for reference is : https://www.sciencedirect.com/science/article/pii/S0923250812000435?via%3Dihub\n",
    "\n",
    "NCBI Link of the Article: https://pubmed.ncbi.nlm.nih.gov/22504206/\n",
    "\n",
    "PMID Of Article: 22504206\n"
   ]
  },
  {
   "cell_type": "code",
   "execution_count": null,
   "metadata": {},
   "outputs": [],
   "source": [
    "patterns = [\"ATTTATATTTA\",\"TTTTATGTTTT\",\"ATTTATATTTT\",\"ATTTATGTTTA\",\"ATTTATGTTTT\",\"TTTTATATTTA\",\"TTTTATATTTT\",\"TTTTATGTTTA\"]"
   ]
  },
  {
   "cell_type": "markdown",
   "metadata": {},
   "source": [
    "# Parsing the fasta files\n",
    "\n",
    "Now we open the downloaded chromosomes sequences one by one which are 16 in number hence we use a for loop to repeat this procedure 16 times. \n",
    "\n",
    "And now we parse each of the fasta file using the SeqIO module provided by the BioPython package, to parse the fasta files we use the function `parse()`.\n",
    "\n",
    "After parsing the fasta file we extract the DNA sequence and convert it into string type object, so as to do the rest of our work.\n"
   ]
  },
  {
   "cell_type": "code",
   "execution_count": null,
   "metadata": {},
   "outputs": [],
   "source": [
    "for i in range(1,17):\n",
    "    print(\"\\n\",end=\"\")\n",
    "    print(f\"For Chromosome {i}: \")\n",
    "    new_file_name = file_name+str(i)+\".fasta\"\n",
    "    #nor parse this\n",
    "    dna_sequence=\"\"\n",
    "    for sequence in sio.parse(new_file_name,\"fasta\"):\n",
    "        dna_sequence=str(sequence.seq)"
   ]
  },
  {
   "cell_type": "markdown",
   "metadata": {},
   "source": [
    "# Searching for the Origin of Replication using `nt_search()`\n",
    "\n",
    "After getting the DNA sequence as the string type object, we now iterate over all the possible sequences of the Origin of Replication and we try to search for that sequence in that particular DNA chromosome.\n",
    "\n",
    "And here we use the `nt_search()` function of the SeqUtils module which matches a given subsequence in a bigger sequence and return the positions where the match has occurred."
   ]
  },
  {
   "cell_type": "code",
   "execution_count": null,
   "metadata": {},
   "outputs": [],
   "source": [
    "for sequence in sio.parse(new_file_name,\"fasta\"):\n",
    "    dna_sequence=str(sequence.seq)\n",
    "total_positions = []\n",
    "for specific_sequence in patterns:\n",
    "    matches = util.nt_search(dna_sequence,specific_sequence)"
   ]
  },
  {
   "cell_type": "markdown",
   "metadata": {},
   "source": [
    "# Storing the possible positions\n",
    "\n",
    "Now if the `nt_search()` function successfully found some matches then we will have them stored inside the variable matches. \n",
    "\n",
    "And now we iterate over the matches and check whether we have got any result and if we have got some result then we store the result into the list: total_positions\n"
   ]
  },
  {
   "cell_type": "code",
   "execution_count": null,
   "metadata": {},
   "outputs": [],
   "source": [
    "for position_number in matches:\n",
    "    if(isinstance(position_number,int)):\n",
    "        total_positions.append(position_number)"
   ]
  },
  {
   "cell_type": "markdown",
   "metadata": {},
   "source": [
    "# Finding all the possible positions\n",
    "\n",
    "Finally we repeat this process for all the possible patterns and if successfully found some matches using the `nt_search()` function then we store the result into the total_positions list. \n",
    "And finally we print the content of the total_position, which gives us the positions of the Origin of Replication for that particular Chromosome."
   ]
  },
  {
   "cell_type": "code",
   "execution_count": null,
   "metadata": {},
   "outputs": [],
   "source": [
    "total_positions = []\n",
    "for specific_sequence in patterns:\n",
    "    matches = util.nt_search(dna_sequence,specific_sequence)\n",
    "    for position_number in matches:\n",
    "        if(isinstance(position_number,int)):\n",
    "            total_positions.append(position_number)\n",
    "print(f\"Origin of Replication found at positions: {total_positions}\")"
   ]
  },
  {
   "cell_type": "markdown",
   "metadata": {},
   "source": [
    "# Following is the whole Code for Part(b):-"
   ]
  },
  {
   "cell_type": "code",
   "execution_count": 2,
   "metadata": {},
   "outputs": [
    {
     "name": "stdout",
     "output_type": "stream",
     "text": [
      "\n",
      "For Chromosome 1: \n",
      "Origin of Replication found at positions: [159953, 176522, 176236, 17149, 208605, 229450]\n",
      "\n",
      "For Chromosome 2: \n",
      "Origin of Replication found at positions: [632052, 238293, 381151, 420235, 622760, 792466, 603190, 665038, 122598, 368745, 543395, 568821, 755032, 80, 195767, 326080, 812416]\n",
      "\n",
      "For Chromosome 3: \n",
      "Origin of Replication found at positions: [74520, 11256, 78863, 224863, 14700, 201845, 231261, 315820]\n",
      "\n",
      "For Chromosome 4: \n",
      "Origin of Replication found at positions: [104908, 521761, 807779, 1182775, 1240933, 340870, 347217, 480280, 210566, 477645, 1070495, 1422530, 232057, 263124, 1462061, 77223, 405175, 443872, 427871, 1272225, 50459, 67634, 233925, 420761, 521602, 561437, 609151, 677939, 709270, 913867, 1398457, 1404336, 1445629, 1462567, 111128, 1057898, 1447485, 1524662]\n",
      "\n",
      "For Chromosome 5: \n",
      "Origin of Replication found at positions: [59536, 309689, 16057, 99492, 280702, 284609, 390603, 7976, 230002, 301681, 498891, 287569, 105316, 49778, 109085, 110515, 345455, 64, 569636]\n",
      "\n",
      "For Chromosome 6: \n",
      "Origin of Replication found at positions: [80490, 195147, 27962]\n",
      "\n",
      "For Chromosome 7: \n",
      "Origin of Replication found at positions: [43207, 65477, 396274, 929386, 35566, 41364, 561391, 588415, 747072, 451140, 574702, 952440, 1060021, 2378, 203973, 147026, 303491, 545272, 728056, 597431, 836306, 1083672]\n",
      "\n",
      "For Chromosome 8: \n",
      "Origin of Replication found at positions: [147808, 16518, 457805, 304820, 380992, 479735, 529202, 64123, 83827, 236775, 245]\n",
      "\n",
      "For Chromosome 9: \n",
      "Origin of Replication found at positions: [223179, 246020, 50457, 175175, 33479, 97191, 155110, 214737, 110140, 140546, 295755, 355641, 357227, 287, 406426, 439105]\n",
      "\n",
      "For Chromosome 10: \n",
      "Origin of Replication found at positions: [40166, 286691, 645374, 250822, 724949, 409340, 150689, 184345, 270058, 283500, 445361, 675075, 270, 58840, 337354, 510391, 724521, 744939]\n",
      "\n",
      "For Chromosome 11: \n",
      "Origin of Replication found at positions: [277028, 329728, 376306, 215299, 320816, 517064, 30312, 351069, 642785, 15940, 42403, 98352, 153748, 213538, 458672, 551705, 98386, 665941]\n",
      "\n",
      "For Chromosome 12: \n",
      "Origin of Replication found at positions: [136251, 492690, 1013791, 993047, 106161, 122397, 328578, 687936, 710150, 795564, 178704, 291531, 592867, 622065, 802504, 849619, 1007242, 283, 5920, 450507, 659894, 822091, 1064318]\n",
      "\n",
      "For Chromosome 13: \n",
      "Origin of Replication found at positions: [44861, 520013, 103857, 287892, 397488, 800176, 878722, 226915, 684223, 137323, 284809, 763914, 790119, 149621, 263128, 286360, 372107, 505238, 624332, 261, 159048, 236673, 923577]\n",
      "\n",
      "For Chromosome 14: \n",
      "Origin of Replication found at positions: [738721, 36228, 283059, 348888, 508773, 364246, 591246, 769793, 340875, 479446, 585465, 609521, 691986, 171, 358975, 609538, 783315]\n",
      "\n",
      "For Chromosome 15: \n",
      "Origin of Replication found at positions: [35716, 513108, 832528, 843668, 488522, 848300, 483177, 981513, 167005, 300175, 663647, 92017, 900041, 729797, 778495, 1004267, 1046030, 829874, 935686, 1083959]\n",
      "\n",
      "For Chromosome 16: \n",
      "Origin of Replication found at positions: [564008, 23522, 116595, 511710, 842792, 159963, 815973, 384599, 511642, 563884, 702002, 72088, 434198, 443871, 458609, 481285, 910154, 80, 459744, 880913, 942433]\n"
     ]
    }
   ],
   "source": [
    "from Bio import Entrez as ent\n",
    "from Bio import SeqUtils as util\n",
    "from Bio.Seq import Seq as seq\n",
    "from Bio import SeqIO as sio\n",
    "file_name = \"Chromosome \"\n",
    "Chromosome_number = 1\n",
    "patterns = [\"ATTTATATTTA\",\"TTTTATGTTTT\",\"ATTTATATTTT\",\"ATTTATGTTTA\",\"ATTTATGTTTT\",\"TTTTATATTTA\",\"TTTTATATTTT\",\"TTTTATGTTTA\"]\n",
    "for i in range(1,17):\n",
    "    print(\"\\n\",end=\"\")\n",
    "    print(f\"For Chromosome {i}: \")\n",
    "    new_file_name = file_name+str(i)+\".fasta\"\n",
    "    dna_sequence=\"\"\n",
    "    for sequence in sio.parse(new_file_name,\"fasta\"):\n",
    "        dna_sequence=str(sequence.seq)\n",
    "    total_positions = []\n",
    "    for specific_sequence in patterns:\n",
    "        matches = util.nt_search(dna_sequence,specific_sequence)\n",
    "        for position_number in matches:\n",
    "            if(isinstance(position_number,int)):\n",
    "                total_positions.append(position_number)\n",
    "    print(f\"Origin of Replication found at positions: {total_positions}\")"
   ]
  }
 ],
 "metadata": {
  "kernelspec": {
   "display_name": "Python 3",
   "language": "python",
   "name": "python3"
  },
  "language_info": {
   "codemirror_mode": {
    "name": "ipython",
    "version": 3
   },
   "file_extension": ".py",
   "mimetype": "text/x-python",
   "name": "python",
   "nbconvert_exporter": "python",
   "pygments_lexer": "ipython3",
   "version": "3.10.11"
  }
 },
 "nbformat": 4,
 "nbformat_minor": 2
}
